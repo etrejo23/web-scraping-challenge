{
 "cells": [
  {
   "cell_type": "code",
   "execution_count": 1,
   "metadata": {},
   "outputs": [],
   "source": [
    "from splinter import Browser\n",
    "from bs4 import BeautifulSoup as BS\n",
    "import pandas as pd\n",
    "import requests\n",
    "import selenium\n",
    "from selenium import webdriver                   \n",
    "from selenium.webdriver.common.keys import Keys   \n",
    "from selenium.webdriver.common.by import By\n",
    "from selenium.webdriver.support.ui import WebDriverWait\n",
    "from selenium.webdriver.support import expected_conditions as EC\n",
    "from selenium.common.exceptions import TimeoutException"
   ]
  },
  {
   "cell_type": "code",
   "execution_count": 15,
   "metadata": {},
   "outputs": [],
   "source": [
    "def hemispheres_images():\n",
    "    driver = webdriver.Firefox()\n",
    "    hemisphere=\"https://astrogeology.usgs.gov/search/results?q=hemisphere+enhanced&k1=target&v1=Mars\"\n",
    "    driver.get(hemisphere)\n",
    "    driver.implicitly_wait(10)\n",
    "    hemisphere_image_urls = []\n",
    "    hemisphere_links = driver.find_elements_by_tag_name('h3')\n",
    "    for link in range(len(hemisphere_links)):\n",
    "        hemisphere_data = {}\n",
    "    #     starting point\n",
    "        hemisphere_links = driver.find_elements_by_tag_name('h3')\n",
    "    #     print(hemisphere_links[link].text)   \n",
    "        title = hemisphere_links[link].text\n",
    "        hemisphere_data['title'] = title\n",
    "    #     navigate to the h3 tag and get href attribute for the sample image\n",
    "    #     append the href url to the dictionary\n",
    "        hemisphere_links[link].click()\n",
    "        sample = driver.find_element_by_link_text('Sample').get_attribute('href')\n",
    "        #sample.click()\n",
    "        hemisphere_data['img_url'] = sample\n",
    "    #     append the image title and img url to the empty list\n",
    "        hemisphere_image_urls.append(hemisphere_data)\n",
    "        \n",
    "    #     return to previous page to iterate through remaining images\n",
    "        driver.back()\n",
    "    #hemisphere_image_urls\n",
    "    driver.quit()\n",
    "    return hemisphere_image_urls"
   ]
  },
  {
   "cell_type": "code",
   "execution_count": 16,
   "metadata": {},
   "outputs": [
    {
     "data": {
      "text/plain": [
       "[{'title': 'Cerberus Hemisphere Enhanced',\n",
       "  'img_url': 'https://astropedia.astrogeology.usgs.gov/download/Mars/Viking/cerberus_enhanced.tif/full.jpg'},\n",
       " {'title': 'Schiaparelli Hemisphere Enhanced',\n",
       "  'img_url': 'https://astropedia.astrogeology.usgs.gov/download/Mars/Viking/schiaparelli_enhanced.tif/full.jpg'},\n",
       " {'title': 'Syrtis Major Hemisphere Enhanced',\n",
       "  'img_url': 'https://astropedia.astrogeology.usgs.gov/download/Mars/Viking/syrtis_major_enhanced.tif/full.jpg'},\n",
       " {'title': 'Valles Marineris Hemisphere Enhanced',\n",
       "  'img_url': 'https://astropedia.astrogeology.usgs.gov/download/Mars/Viking/valles_marineris_enhanced.tif/full.jpg'}]"
      ]
     },
     "execution_count": 16,
     "metadata": {},
     "output_type": "execute_result"
    }
   ],
   "source": [
    "hemispheres_images()"
   ]
  },
  {
   "cell_type": "code",
   "execution_count": null,
   "metadata": {},
   "outputs": [],
   "source": []
  }
 ],
 "metadata": {
  "kernelspec": {
   "display_name": "Python 3",
   "language": "python",
   "name": "python3"
  },
  "language_info": {
   "codemirror_mode": {
    "name": "ipython",
    "version": 3
   },
   "file_extension": ".py",
   "mimetype": "text/x-python",
   "name": "python",
   "nbconvert_exporter": "python",
   "pygments_lexer": "ipython3",
   "version": "3.7.6"
  }
 },
 "nbformat": 4,
 "nbformat_minor": 4
}
