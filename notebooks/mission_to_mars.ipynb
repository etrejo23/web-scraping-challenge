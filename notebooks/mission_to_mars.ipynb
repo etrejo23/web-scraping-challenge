{
 "cells": [
  {
   "cell_type": "markdown",
   "metadata": {},
   "source": [
    "## Step 1: Install Python packages"
   ]
  },
  {
   "cell_type": "code",
   "execution_count": 1,
   "metadata": {},
   "outputs": [],
   "source": [
    "from splinter import Browser\n",
    "from bs4 import BeautifulSoup as BS\n",
    "import pandas as pd\n",
    "import requests\n",
    "import selenium\n",
    "from selenium import webdriver                   \n",
    "from selenium.webdriver.common.keys import Keys   \n",
    "from selenium.webdriver.common.by import By\n",
    "from selenium.webdriver.support.ui import WebDriverWait\n",
    "from selenium.webdriver.support import expected_conditions as EC\n",
    "from selenium.common.exceptions import TimeoutException\n",
    "from pymongo import MongoClient"
   ]
  },
  {
   "cell_type": "markdown",
   "metadata": {},
   "source": [
    "## Step 2: Preparation"
   ]
  },
  {
   "cell_type": "code",
   "execution_count": 2,
   "metadata": {},
   "outputs": [],
   "source": [
    "#Initialize browser in current directory\n",
    "# executable_path = {'executable_path': 'chromedriver.exe'}\n",
    "# browser = Browser('chrome', **executable_path, headless=False)\n",
    "driver = webdriver.Firefox(executable_path= \"geckodriver.exe\")\n",
    "driver.maximize_window()\n"
   ]
  },
  {
   "cell_type": "code",
   "execution_count": 3,
   "metadata": {},
   "outputs": [],
   "source": [
    "news=\"https://mars.nasa.gov/news/\"\n",
    "feature=\"https://www.jpl.nasa.gov/spaceimages/?search=&category=Mars\"\n",
    "facts=\"https://space-facts.com/mars/\"\n",
    "hemisphere=\"https://astrogeology.usgs.gov/search/results?q=hemisphere+enhanced&k1=target&v1=Mars\""
   ]
  },
  {
   "cell_type": "markdown",
   "metadata": {},
   "source": [
    "<div class=\"alert alert-block alert-info\">\n",
    "    <b>Note:</b> The next lines of code is the connection to a mongo databaste which will be seperated into different collections through this document.\n",
    "</div>"
   ]
  },
  {
   "cell_type": "code",
   "execution_count": 4,
   "metadata": {},
   "outputs": [],
   "source": [
    "# Connect to MongoDB\n",
    "#connecting to the local host\n",
    "client =  MongoClient(\"mongodb://localhost:27017\")\n",
    "#creating database\n",
    "db = client['mars_database']"
   ]
  },
  {
   "cell_type": "markdown",
   "metadata": {},
   "source": [
    "## Step 3: Find the IDs of the items we want to scrape for"
   ]
  },
  {
   "cell_type": "code",
   "execution_count": 5,
   "metadata": {},
   "outputs": [],
   "source": [
    "driver.get(news)"
   ]
  },
  {
   "cell_type": "code",
   "execution_count": 6,
   "metadata": {},
   "outputs": [],
   "source": [
    "# news_page_id=browser.find_by_id('site_body')\n",
    "timeout = 20\n",
    "# Find an ID on the page and wait before executing anything until found: \n",
    "try:\n",
    "    WebDriverWait(driver, timeout).until(EC.visibility_of_element_located((By.ID, \"site_body\")))\n",
    "except TimeoutException:\n",
    "    driver.quit()"
   ]
  },
  {
   "cell_type": "code",
   "execution_count": null,
   "metadata": {},
   "outputs": [],
   "source": [
    "#news_page=driver.find_element_by_id(\"site_body\").get_attribute(\"innerHTML\")\n",
    "# body = driver.find_element_by_tag_name(\"body\")\n",
    "# news_page = body.get_attribute(\"innerHMTL\")"
   ]
  },
  {
   "cell_type": "code",
   "execution_count": null,
   "metadata": {},
   "outputs": [],
   "source": [
    "#news_soup = BS(news_page,'html.parser')"
   ]
  },
  {
   "cell_type": "code",
   "execution_count": 7,
   "metadata": {},
   "outputs": [
    {
     "data": {
      "text/plain": [
       "'Sensors on Mars 2020 Spacecraft Answer Long-Distance Call From Earth'"
      ]
     },
     "execution_count": 7,
     "metadata": {},
     "output_type": "execute_result"
    }
   ],
   "source": [
    "# Retrieve the latest news title\n",
    "title_elements = driver.find_elements_by_class_name(\"content_title\")\n",
    "title_htmls = [title_element.get_attribute(\"innerHTML\") for title_element in title_elements]\n",
    "title_html = title_htmls[1]\n",
    "news_soup = BS(title_html, 'lxml')\n",
    "news_title = news_soup.get_text()\n",
    "news_title"
   ]
  },
  {
   "cell_type": "code",
   "execution_count": 8,
   "metadata": {},
   "outputs": [
    {
     "data": {
      "text/plain": [
       "\"Instruments tailored to collect data during the descent of NASA's next rover through the Red Planet's atmosphere have been checked in flight.\""
      ]
     },
     "execution_count": 8,
     "metadata": {},
     "output_type": "execute_result"
    }
   ],
   "source": [
    "teaser_element = driver.find_element_by_class_name(\"article_teaser_body\")\n",
    "news_p = teaser_element.get_attribute(\"innerHTML\")\n",
    "news_p"
   ]
  },
  {
   "cell_type": "code",
   "execution_count": 9,
   "metadata": {},
   "outputs": [],
   "source": [
    "driver.get(feature)"
   ]
  },
  {
   "cell_type": "code",
   "execution_count": 10,
   "metadata": {},
   "outputs": [],
   "source": [
    "timeout = 20\n",
    "# Find an ID on the page and wait before executing anything until found: \n",
    "try:\n",
    "    WebDriverWait(driver, timeout).until(EC.visibility_of_element_located((By.ID, \"site_body\")))\n",
    "except TimeoutException:\n",
    "    driver.quit()"
   ]
  },
  {
   "cell_type": "code",
   "execution_count": 11,
   "metadata": {},
   "outputs": [],
   "source": [
    "#LOOK FOR AN ID FIRST, THEN FIND THE ATTRIBUTE\n",
    "feature_image = driver.find_element_by_id(\"full_image\")\n",
    "# featured_image = [image_element.get_attribute(\"data-link\") for image_element in feature_image]\n",
    "# image_link=feature+featured_image[0]\n",
    "# driver.get(image_link)\n",
    "feature_image.click()\n"
   ]
  },
  {
   "cell_type": "code",
   "execution_count": 12,
   "metadata": {},
   "outputs": [],
   "source": [
    "feature_image_next = driver.find_element_by_link_text(\"more info\")\n",
    "feature_image_next.click()\n",
    "# featured_image_next = [image_element.get_attribute(\"data-link\") for image_element in feature_image_next]\n",
    "# image_link_forrealz=feature+featured_image_next[0]\n",
    "# image_link_forrealz\n",
    "# driver.get(image_link_forrealz)"
   ]
  },
  {
   "cell_type": "code",
   "execution_count": 13,
   "metadata": {},
   "outputs": [
    {
     "data": {
      "text/plain": [
       "'https://www.jpl.nasa.gov/spaceimages/images/largesize/PIA16884_hires.jpg'"
      ]
     },
     "execution_count": 13,
     "metadata": {},
     "output_type": "execute_result"
    }
   ],
   "source": [
    "# featured_soup = BeautifulSoup(html, 'html.parser')\n",
    "\n",
    "#main_image= featured_soup.find('img', class_='main_image')\n",
    "\n",
    "large_image = driver.find_elements_by_class_name(\"main_image\")\n",
    "\n",
    "feat_images=[]\n",
    "for feat_image in large_image:\n",
    "    feat_images.append(feat_image.get_attribute(\"src\"))\n",
    "\n",
    "featured_image_url=feat_images[0]\n",
    "# featured_image_url = feat_image\n",
    "# main_image\n",
    "    \n",
    "featured_image_url"
   ]
  },
  {
   "cell_type": "code",
   "execution_count": 14,
   "metadata": {},
   "outputs": [
    {
     "data": {
      "text/plain": [
       "'<table border=\"1\" class=\"dataframe\">\\n  <thead>\\n    <tr style=\"text-align: right;\">\\n      <th></th>\\n      <th>0</th>\\n      <th>1</th>\\n    </tr>\\n  </thead>\\n  <tbody>\\n    <tr>\\n      <th>0</th>\\n      <td>Equatorial Diameter:</td>\\n      <td>6,792 km</td>\\n    </tr>\\n    <tr>\\n      <th>1</th>\\n      <td>Polar Diameter:</td>\\n      <td>6,752 km</td>\\n    </tr>\\n    <tr>\\n      <th>2</th>\\n      <td>Mass:</td>\\n      <td>6.39 × 10^23 kg (0.11 Earths)</td>\\n    </tr>\\n    <tr>\\n      <th>3</th>\\n      <td>Moons:</td>\\n      <td>2 (Phobos &amp; Deimos)</td>\\n    </tr>\\n    <tr>\\n      <th>4</th>\\n      <td>Orbit Distance:</td>\\n      <td>227,943,824 km (1.38 AU)</td>\\n    </tr>\\n    <tr>\\n      <th>5</th>\\n      <td>Orbit Period:</td>\\n      <td>687 days (1.9 years)</td>\\n    </tr>\\n    <tr>\\n      <th>6</th>\\n      <td>Surface Temperature:</td>\\n      <td>-87 to -5 °C</td>\\n    </tr>\\n    <tr>\\n      <th>7</th>\\n      <td>First Record:</td>\\n      <td>2nd millennium BC</td>\\n    </tr>\\n    <tr>\\n      <th>8</th>\\n      <td>Recorded By:</td>\\n      <td>Egyptian astronomers</td>\\n    </tr>\\n  </tbody>\\n</table>'"
      ]
     },
     "execution_count": 14,
     "metadata": {},
     "output_type": "execute_result"
    }
   ],
   "source": [
    "tables = pd.read_html(facts)\n",
    "mars_table=tables[0].to_html()\n",
    "mars_table"
   ]
  },
  {
   "cell_type": "code",
   "execution_count": 15,
   "metadata": {},
   "outputs": [],
   "source": [
    "driver.get(hemisphere)"
   ]
  },
  {
   "cell_type": "code",
   "execution_count": 16,
   "metadata": {},
   "outputs": [],
   "source": [
    "# hemisphere_images = driver.find_elements_by_id(\"product-section\")\n",
    "# # hemi_links =  \n",
    "# hemi_titles = [hemi_title.find_elements_by_tag_name('h3') for hemi_title in hemisphere_images]\n",
    "\n",
    "# # for i in range(len(hemi_links)):\n",
    "# #     hemisphere={}\n",
    "#     #driver.find_element_by_css_selector(\"h3\").click()\n",
    "#    # sample_elem=.find_element_by_link_text(\"Sample\").first()\n",
    "# hemi_titles[0]\n",
    "# hemi_title=[]\n",
    "# for i in hemi_titles[0]:\n",
    "#     hemis_soup = BS(i, 'lxml')\n",
    "#     hemi_title.append(hemis_soup.text)\n",
    "# hemi_title\n",
    "# # hemisphere_image_urls = [\n",
    "# #     {\"title\": \"Valles Marineris Hemisphere\", \"img_url\": \"...\"},\n",
    "# #     {\"title\": \"Cerberus Hemisphere\", \"img_url\": \"...\"},\n",
    "# #     {\"title\": \"Schiaparelli Hemisphere\", \"img_url\": \"...\"},\n",
    "# #     {\"title\": \"Syrtis Major Hemisphere\", \"img_url\": \"...\"},\n",
    "# # ]"
   ]
  },
  {
   "cell_type": "code",
   "execution_count": 17,
   "metadata": {},
   "outputs": [
    {
     "data": {
      "text/plain": [
       "[<selenium.webdriver.firefox.webelement.FirefoxWebElement (session=\"2192d238-c580-4a47-ac3e-0c88f2dd8b9c\", element=\"e170328e-fbac-4938-9889-d702d5c40a67\")>]"
      ]
     },
     "execution_count": 17,
     "metadata": {},
     "output_type": "execute_result"
    }
   ],
   "source": [
    "# You will need to click each of the links to the hemispheres in order to find the image url to the full resolution i\n",
    "hemisphere_elements = driver.find_elements_by_tag_name('h3')\n",
    "hemisphere_elements[0].click()\n",
    "# After navigating to certain page pull the featured image link:\n",
    "hemi_links1 = driver.find_elements_by_class_name('wide-image')\n",
    "hemi_links1"
   ]
  },
  {
   "cell_type": "code",
   "execution_count": 19,
   "metadata": {},
   "outputs": [
    {
     "data": {
      "text/plain": [
       "'https://astrogeology.usgs.gov/cache/images/f5e372a36edfa389625da6d0cc25d905_cerberus_enhanced.tif_full.jpg'"
      ]
     },
     "execution_count": 19,
     "metadata": {},
     "output_type": "execute_result"
    }
   ],
   "source": [
    "cerb_links = [cerb_img.get_attribute(\"src\") for cerb_img in hemi_links1]\n",
    "cerb_link = cerb_links[0]\n",
    "cerb_link"
   ]
  },
  {
   "cell_type": "code",
   "execution_count": 20,
   "metadata": {},
   "outputs": [],
   "source": [
    "driver.back()"
   ]
  },
  {
   "cell_type": "code",
   "execution_count": 22,
   "metadata": {},
   "outputs": [
    {
     "data": {
      "text/plain": [
       "[<selenium.webdriver.firefox.webelement.FirefoxWebElement (session=\"2192d238-c580-4a47-ac3e-0c88f2dd8b9c\", element=\"1bf05f3f-26be-4553-bebd-5a528a0fdc34\")>]"
      ]
     },
     "execution_count": 22,
     "metadata": {},
     "output_type": "execute_result"
    }
   ],
   "source": [
    "# You will need to click each of the links to the hemispheres in order to find the image url to the full resolution i\n",
    "hemisphere_elements = driver.find_elements_by_tag_name('h3')\n",
    "hemisphere_elements[1].click()\n",
    "# After navigating to certain page pull the featured image link:\n",
    "hemi_links2 = driver.find_elements_by_class_name('wide-image')\n",
    "hemi_links2"
   ]
  },
  {
   "cell_type": "code",
   "execution_count": 23,
   "metadata": {},
   "outputs": [
    {
     "data": {
      "text/plain": [
       "'https://astrogeology.usgs.gov/cache/images/3778f7b43bbbc89d6e3cfabb3613ba93_schiaparelli_enhanced.tif_full.jpg'"
      ]
     },
     "execution_count": 23,
     "metadata": {},
     "output_type": "execute_result"
    }
   ],
   "source": [
    "Schiaparelli_links = [cerb_img.get_attribute(\"src\") for cerb_img in hemi_links2]\n",
    "Schiaparelli_link = Schiaparelli_links[0]\n",
    "Schiaparelli_link"
   ]
  },
  {
   "cell_type": "code",
   "execution_count": 24,
   "metadata": {},
   "outputs": [],
   "source": [
    "driver.back()"
   ]
  },
  {
   "cell_type": "code",
   "execution_count": 26,
   "metadata": {},
   "outputs": [
    {
     "data": {
      "text/plain": [
       "[<selenium.webdriver.firefox.webelement.FirefoxWebElement (session=\"2192d238-c580-4a47-ac3e-0c88f2dd8b9c\", element=\"13552a93-cb53-44f7-b76a-a1ed4a22f450\")>]"
      ]
     },
     "execution_count": 26,
     "metadata": {},
     "output_type": "execute_result"
    }
   ],
   "source": [
    "# You will need to click each of the links to the hemispheres in order to find the image url to the full resolution i\n",
    "hemisphere_elements = driver.find_elements_by_tag_name('h3')\n",
    "hemisphere_elements[2].click()\n",
    "# After navigating to certain page pull the featured image link:\n",
    "hemi_links3 = driver.find_elements_by_class_name('wide-image')\n",
    "hemi_links3"
   ]
  },
  {
   "cell_type": "code",
   "execution_count": 27,
   "metadata": {},
   "outputs": [],
   "source": [
    "Syrtis_links = [cerb_img.get_attribute(\"src\") for cerb_img in hemi_links3]\n",
    "Syrtis_link = Syrtis_links[0]\n",
    "Syrtis_link"
   ]
  },
  {
   "cell_type": "code",
   "execution_count": 28,
   "metadata": {},
   "outputs": [],
   "source": [
    "driver.back()"
   ]
  },
  {
   "cell_type": "code",
   "execution_count": 29,
   "metadata": {},
   "outputs": [],
   "source": [
    "# You will need to click each of the links to the hemispheres in order to find the image url to the full resolution i\n",
    "hemisphere_elements = driver.find_elements_by_tag_name('h3')\n",
    "hemisphere_elements[3].click()\n",
    "# After navigating to certain page pull the featured image link:\n",
    "hemi_links4 = driver.find_elements_by_class_name('wide-image')\n",
    "hemi_links4"
   ]
  },
  {
   "cell_type": "code",
   "execution_count": 31,
   "metadata": {},
   "outputs": [],
   "source": [
    "Valles_links = [cerb_img.get_attribute(\"src\") for cerb_img in hemi_links4]\n",
    "Valles_link = Valles_links[0]\n",
    "Valles_link"
   ]
  },
  {
   "cell_type": "code",
   "execution_count": 33,
   "metadata": {},
   "outputs": [],
   "source": [
    "driver.back()"
   ]
  },
  {
   "cell_type": "code",
   "execution_count": 35,
   "metadata": {},
   "outputs": [
    {
     "data": {
      "text/plain": [
       "[{'title': 'Cerberus Hemisphere Enhanced',\n",
       "  'img_url': 'https://astrogeology.usgs.gov/cache/images/f5e372a36edfa389625da6d0cc25d905_cerberus_enhanced.tif_full.jpg'},\n",
       " {'title': 'Schiaparelli Hemisphere Enhanced',\n",
       "  'img_url': 'https://astrogeology.usgs.gov/cache/images/3778f7b43bbbc89d6e3cfabb3613ba93_schiaparelli_enhanced.tif_full.jpg'},\n",
       " {'title': 'Syrtis Major Hemisphere Enhanced',\n",
       "  'img_url': 'https://astrogeology.usgs.gov/cache/images/555e6403a6ddd7ba16ddb0e471cadcf7_syrtis_major_enhanced.tif_full.jpg'},\n",
       " {'title': 'Valles Marineris Hemisphere Enhanced',\n",
       "  'img_url': 'https://astrogeology.usgs.gov/cache/images/b3c7c6c9138f57b4756be9b9c43e3a48_valles_marineris_enhanced.tif_full.jpg'}]"
      ]
     },
     "execution_count": 35,
     "metadata": {},
     "output_type": "execute_result"
    }
   ],
   "source": [
    "hemisphere_elements = driver.find_elements_by_tag_name('h3')\n",
    "title_hemis = [title_hemis.get_attribute(\"innerHTML\") for title_hemis in hemisphere_elements]\n",
    "title_hemis\n",
    "hemisphere_image_urls = [\n",
    "    {\"title\": title_hemis[0], \"img_url\": cerb_link},\n",
    "    {\"title\": title_hemis[1], \"img_url\": Schiaparelli_link},\n",
    "    {\"title\": title_hemis[2], \"img_url\": Syrtis_link},\n",
    "    {\"title\": title_hemis[3], \"img_url\": Valles_link},\n",
    "]\n",
    "hemisphere_image_urls"
   ]
  },
  {
   "cell_type": "code",
   "execution_count": 36,
   "metadata": {},
   "outputs": [],
   "source": [
    "driver.quit()"
   ]
  },
  {
   "cell_type": "code",
   "execution_count": null,
   "metadata": {},
   "outputs": [],
   "source": []
  },
  {
   "cell_type": "markdown",
   "metadata": {},
   "source": [
    "## Step 4: The full code that runs the scraper and save the data to mongo db"
   ]
  },
  {
   "cell_type": "code",
   "execution_count": null,
   "metadata": {},
   "outputs": [],
   "source": [
    "# news_title = \"NASA's Next Mars Mission to Investigate Interior of Red Planet\"\n",
    "\n",
    "# news_p = \"Preparation of NASA's next spacecraft to Mars, InSight, has ramped up this summer, on course for launch next May from Vandenberg Air Force Base in central California -- the first interplanetary launch in history from America's West Coast.\"\n",
    "\n",
    "# featured_image_url = 'https://www.jpl.nasa.gov/spaceimages/images/largesize/PIA16225_hires.jpg'\n",
    "\n",
    "# mars_table\n",
    "\n",
    "# hemisphere_image_urls = [\n",
    "#     {\"title\": \"Valles Marineris Hemisphere\", \"img_url\": \"...\"},\n",
    "#     {\"title\": \"Cerberus Hemisphere\", \"img_url\": \"...\"},\n",
    "#     {\"title\": \"Schiaparelli Hemisphere\", \"img_url\": \"...\"},\n",
    "#     {\"title\": \"Syrtis Major Hemisphere\", \"img_url\": \"...\"},\n",
    "# ]"
   ]
  },
  {
   "cell_type": "code",
   "execution_count": 37,
   "metadata": {},
   "outputs": [
    {
     "data": {
      "text/plain": [
       "<pymongo.results.InsertOneResult at 0x24d2709db88>"
      ]
     },
     "execution_count": 37,
     "metadata": {},
     "output_type": "execute_result"
    }
   ],
   "source": [
    "#This is ref./example to understand that this is the same thing.\n",
    "#mars_database.mars_scrape=mars_database[\"mars_scrape\"]\n",
    "\n",
    "# A dictionary that will become a MongoDB document\n",
    "mars_dictionary = {\n",
    "    'title': news_title,\n",
    "    'paragraph': news_p,\n",
    "    'image': featured_image_url,\n",
    "    'table': mars_table,\n",
    "    'urls': hemisphere_image_urls\n",
    "}\n",
    "# Declare the collection\n",
    "mars_collection = db.mars_scrape\n",
    "# Insert document into collection\n",
    "mars_collection.insert_one(mars_dictionary)"
   ]
  },
  {
   "cell_type": "code",
   "execution_count": null,
   "metadata": {},
   "outputs": [],
   "source": []
  }
 ],
 "metadata": {
  "kernelspec": {
   "display_name": "Python 3",
   "language": "python",
   "name": "python3"
  },
  "language_info": {
   "codemirror_mode": {
    "name": "ipython",
    "version": 3
   },
   "file_extension": ".py",
   "mimetype": "text/x-python",
   "name": "python",
   "nbconvert_exporter": "python",
   "pygments_lexer": "ipython3",
   "version": "3.7.6"
  }
 },
 "nbformat": 4,
 "nbformat_minor": 4
}
